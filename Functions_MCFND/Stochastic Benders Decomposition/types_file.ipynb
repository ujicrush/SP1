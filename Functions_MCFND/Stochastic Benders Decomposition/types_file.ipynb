{
 "cells": [
  {
   "cell_type": "code",
   "execution_count": 1,
   "metadata": {},
   "outputs": [],
   "source": [
    "import numpy as np\n",
    "from dataclasses import dataclass, field\n",
    "from typing import Dict, List, Tuple, Any, Optional"
   ]
  },
  {
   "cell_type": "markdown",
   "metadata": {},
   "source": [
    "### Config"
   ]
  },
  {
   "cell_type": "code",
   "execution_count": 2,
   "metadata": {},
   "outputs": [],
   "source": [
    "class Config:\n",
    "    def __init__(self, data=None):\n",
    "        self._data = data if data is not None else {}\n",
    "    \n",
    "    def __getattr__(self, name):\n",
    "        if name == '_data':\n",
    "            return super().__getattribute__(name)\n",
    "        return self._data.get(name)\n",
    "    \n",
    "    def __setattr__(self, name, value):\n",
    "        if name == '_data':\n",
    "            super().__setattr__(name, value)\n",
    "        else:\n",
    "            self._data[name] = value\n",
    "    \n",
    "    def __getitem__(self, key):\n",
    "        return self._data[key]\n",
    "    \n",
    "    def __setitem__(self, key, value):\n",
    "        self._data[key] = value\n",
    "    \n",
    "    def __dir__(self):\n",
    "        return list(self._data.keys()) + ['_data']"
   ]
  },
  {
   "cell_type": "markdown",
   "metadata": {},
   "source": [
    "### cMCMDProblem"
   ]
  },
  {
   "cell_type": "code",
   "execution_count": 3,
   "metadata": {},
   "outputs": [],
   "source": [
    "class cMCMDProblem:\n",
    "    def __init__(self, \n",
    "                 n_nodes: int,\n",
    "                 n_edges: int,\n",
    "                 n_commodities: int,\n",
    "                 n_days: int,\n",
    "                 k: int,  # Sparsity param\n",
    "                 A: np.ndarray,  # n_nodes x n_edges matrix\n",
    "                 b: np.ndarray,  # n_commodities x n_nodes vector\n",
    "                 c: np.ndarray,  # n_edges cost vector\n",
    "                 d: List[float],  # n_edges cost vector\n",
    "                 u: List[float],  # n_edges capacity vector  \n",
    "                 lb: List[float],  # n_edges lower bound / feasible start for z\n",
    "                 ub: List[float],  # n_edges upper bound for z\n",
    "                 gamma: float,  # regularization\n",
    "                 sampling_rate: float,  # divide days by s_rate each iteration\n",
    "                 edge_map: Dict[int, Tuple[int, int, int]],  # TRACK edges before and after sparsifying\n",
    "                 outgoing_edges: Dict[int, List[int]],  # For e in outgoing_edges[i], e is an outgoing edge from node i\n",
    "                 incoming_edges: Dict[int, List[int]],  # For e in incoming_edges[i], e is an incoming edge to node i\n",
    "                 old_to_new_map: Dict[int, int]  # old_to_new_map[i] = j, means that edge i is now edge j\n",
    "                ):\n",
    "        self.n_nodes = n_nodes\n",
    "        self.n_edges = n_edges\n",
    "        self.n_commodities = n_commodities\n",
    "        self.n_days = n_days\n",
    "        self.k = k\n",
    "        self.A = A\n",
    "        self.b = b\n",
    "        self.c = c\n",
    "        self.d = d\n",
    "        self.u = u\n",
    "        self.lb = lb\n",
    "        self.ub = ub\n",
    "        self.gamma = gamma\n",
    "        self.sampling_rate = sampling_rate\n",
    "        self.edge_map = edge_map\n",
    "        self.outgoing_edges = outgoing_edges\n",
    "        self.incoming_edges = incoming_edges\n",
    "        self.old_to_new_map = old_to_new_map"
   ]
  },
  {
   "cell_type": "markdown",
   "metadata": {},
   "source": [
    "### Cut"
   ]
  },
  {
   "cell_type": "code",
   "execution_count": 4,
   "metadata": {},
   "outputs": [],
   "source": [
    "class Cut:\n",
    "    def __init__(self, obj: float, grad_obj: np.ndarray, status: str):\n",
    "        self.obj = obj\n",
    "        self.grad_obj = grad_obj  # ∇obj in Julia\n",
    "        self.status = status"
   ]
  },
  {
   "cell_type": "markdown",
   "metadata": {},
   "source": [
    "### Dual"
   ]
  },
  {
   "cell_type": "code",
   "execution_count": 6,
   "metadata": {},
   "outputs": [],
   "source": [
    "class Dual:\n",
    "    def __init__(self, \n",
    "                 alpha: np.ndarray,\n",
    "                 lam: float,\n",
    "                 betal: np.ndarray,\n",
    "                 betau: np.ndarray,\n",
    "                 rho: np.ndarray,\n",
    "                 w: np.ndarray,\n",
    "                 ofv: float,\n",
    "                 status: str\n",
    "                 ):\n",
    "        self.alpha = alpha\n",
    "        self.gamma = gamma\n",
    "        self.betal = betal\n",
    "        self.betau = betau\n",
    "        self.rho = rho\n",
    "        self.w = w\n",
    "        self.ofv = ofv\n",
    "        self.status = status"
   ]
  },
  {
   "cell_type": "markdown",
   "metadata": {},
   "source": [
    "### PrimalSolution"
   ]
  },
  {
   "cell_type": "code",
   "execution_count": 7,
   "metadata": {},
   "outputs": [],
   "source": [
    "class PrimalSolution:\n",
    "    def __init__(self,\n",
    "                 support: List[int],\n",
    "                 z: List[float],\n",
    "                 value: float,\n",
    "                 offset: List[float],\n",
    "                 slope: np.ndarray,\n",
    "                 isbinary: bool,\n",
    "                 method: str,\n",
    "                 R_sample: List[int],\n",
    "                 P: Dict[str, List[int]]):\n",
    "        self.support = support\n",
    "        self.z = z\n",
    "        self.value = value\n",
    "        self.offset = offset\n",
    "        self.slope = slope\n",
    "        self.isbinary = isbinary\n",
    "        self.method = method\n",
    "        self.R_sample = R_sample\n",
    "        self.P = P"
   ]
  },
  {
   "cell_type": "markdown",
   "metadata": {},
   "source": [
    "### InfeasibleCut"
   ]
  },
  {
   "cell_type": "code",
   "execution_count": 8,
   "metadata": {},
   "outputs": [],
   "source": [
    "class InfeasibleCut:\n",
    "    def __init__(self,\n",
    "                 z: List[float],\n",
    "                 R_sample: List[int],\n",
    "                 p: np.ndarray,\n",
    "                 b: np.ndarray,\n",
    "                 infeas_r: List[int]):\n",
    "        self.z = z\n",
    "        self.R_sample = R_sample\n",
    "        self.p = p\n",
    "        self.b = b\n",
    "        self.infeas_r = infeas_r"
   ]
  },
  {
   "cell_type": "markdown",
   "metadata": {},
   "source": [
    "### DataLogger"
   ]
  },
  {
   "cell_type": "code",
   "execution_count": 9,
   "metadata": {},
   "outputs": [],
   "source": [
    "class DataLogger:\n",
    "    def __init__(self, data: Dict[str, Any] = None):\n",
    "        self.data = data if data is not None else {}"
   ]
  }
 ],
 "metadata": {
  "kernelspec": {
   "display_name": "base",
   "language": "python",
   "name": "python3"
  },
  "language_info": {
   "codemirror_mode": {
    "name": "ipython",
    "version": 3
   },
   "file_extension": ".py",
   "mimetype": "text/x-python",
   "name": "python",
   "nbconvert_exporter": "python",
   "pygments_lexer": "ipython3",
   "version": "3.12.4"
  }
 },
 "nbformat": 4,
 "nbformat_minor": 2
}
